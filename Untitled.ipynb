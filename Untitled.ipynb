{
 "cells": [
  {
   "cell_type": "code",
   "execution_count": null,
   "metadata": {},
   "outputs": [],
   "source": [
    "import matplotlib.pyplot as plt\n",
    "import numpy as np\n",
    "import time\n",
    "from math import *\n",
    " \n",
    "plt.ion() #開啟interactive mode 成功的關鍵函式\n",
    "plt.figure(1)\n",
    "t = [0]\n",
    "t_now = 0\n",
    "m = [sin(t_now)]\n",
    " \n",
    "for i in range(2000):\n",
    " t_now = i*0.1\n",
    " t.append(t_now)#模擬資料增量流入\n",
    " m.append(sin(t_now))#模擬資料增量流入\n",
    " plt.plot(t,m,'-r')\n",
    " plt.draw()#注意此函式需要呼叫\n",
    " time.sleep(0.01)"
   ]
  },
  {
   "cell_type": "code",
   "execution_count": null,
   "metadata": {},
   "outputs": [],
   "source": []
  }
 ],
 "metadata": {
  "kernelspec": {
   "display_name": "Python 3",
   "language": "python",
   "name": "python3"
  },
  "language_info": {
   "codemirror_mode": {
    "name": "ipython",
    "version": 3
   },
   "file_extension": ".py",
   "mimetype": "text/x-python",
   "name": "python",
   "nbconvert_exporter": "python",
   "pygments_lexer": "ipython3",
   "version": "3.7.4"
  }
 },
 "nbformat": 4,
 "nbformat_minor": 2
}
